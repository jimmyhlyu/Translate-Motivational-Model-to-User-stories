{
 "cells": [
  {
   "cell_type": "code",
   "execution_count": null,
   "id": "39f6d9fe-cc65-4f1a-967c-c9172a31e1b3",
   "metadata": {},
   "outputs": [],
   "source": [
    "!pip install openai"
   ]
  },
  {
   "cell_type": "code",
   "execution_count": 1,
   "id": "64197375-e870-4152-8795-07d7efca040f",
   "metadata": {},
   "outputs": [],
   "source": [
    "import openai\n",
    "from PrivateKey import key\n",
    "openai.api_key = key"
   ]
  },
  {
   "cell_type": "code",
   "execution_count": 3,
   "id": "81598ae8-1c13-432d-9c57-cdf2f194eb7e",
   "metadata": {},
   "outputs": [
    {
     "data": {
      "text/plain": [
       "<OpenAIObject chat.completion id=chatcmpl-78HyWjCDacK1mOkg4uxhNhDZYzCNl at 0x244e3a03bd0> JSON: {\n",
       "  \"choices\": [\n",
       "    {\n",
       "      \"finish_reason\": \"stop\",\n",
       "      \"index\": 0,\n",
       "      \"message\": {\n",
       "        \"content\": \"I am an AI language model created by OpenAI, here to assist you with any questions or tasks you may have. How can I assist you today?\",\n",
       "        \"role\": \"assistant\"\n",
       "      }\n",
       "    }\n",
       "  ],\n",
       "  \"created\": 1682210076,\n",
       "  \"id\": \"chatcmpl-78HyWjCDacK1mOkg4uxhNhDZYzCNl\",\n",
       "  \"model\": \"gpt-3.5-turbo-0301\",\n",
       "  \"object\": \"chat.completion\",\n",
       "  \"usage\": {\n",
       "    \"completion_tokens\": 31,\n",
       "    \"prompt_tokens\": 23,\n",
       "    \"total_tokens\": 54\n",
       "  }\n",
       "}"
      ]
     },
     "execution_count": 3,
     "metadata": {},
     "output_type": "execute_result"
    }
   ],
   "source": [
    "openai.ChatCompletion.create(\n",
    "  model=\"gpt-3.5-turbo\",\n",
    "  messages=[\n",
    "        {\"role\": \"system\", \"content\": \"You are ChatGPT, a large language model trained by OpenAI. Answer as concisely as possible.\"},\n",
    "        {\"role\": \"user\", \"content\": \"You are ChatGPT, a large language model trained by OpenAI. Answer as concisely as possible.\"},\n",
    "    ]\n",
    ")"
   ]
  },
  {
   "cell_type": "code",
   "execution_count": 3,
   "id": "62480e6e-1f28-4287-bbfa-df1a18ae2b33",
   "metadata": {},
   "outputs": [],
   "source": [
    "import json\n",
    "import os\n",
    "dataList = []\n",
    "\n",
    "for dataName in os.listdir(\"Models/\"):\n",
    "    fileName = \"%s/%s\" % (\"Models\", dataName)\n",
    "    with open(fileName, 'r') as f:\n",
    "        data = json.load(f)\n",
    "        dataList.append(data)\n"
   ]
  },
  {
   "cell_type": "code",
   "execution_count": 4,
   "id": "08d15272-1dc1-4fa1-ae05-87a4bd35c644",
   "metadata": {},
   "outputs": [
    {
     "name": "stdout",
     "output_type": "stream",
     "text": [
      "Learning Algorithm Platform, 3, People can use this Platform to Learn Algorithms, 1, Students,             Construct the solution, Submit the solution, Get feedback, Ask for help, Preview the algorithms animation, Read algorithm specs and problems, 2, Solve the problems, Browse algorithms, User-friendly ,Focused, Fun, Practical, Engaged, Challenged, Encouraged, Approachable to non-coders, Accomplished, Fair Constructive\n"
     ]
    }
   ],
   "source": [
    "namespace = {'modelName' : data['modelName'], 'modelId' : data['modelId'],\\\n",
    "            'goal' : data['goal'], 'description' : data['description'],\\\n",
    "            'numStakeHolders' : data['stakeHolders']['number'],\\\n",
    "            'namesStakeHolder' : data['stakeHolders']['names'],\\\n",
    "            'treeNodes' : data['treeNodes'],\\\n",
    "            'numEpic' : data['epics']['number'],\\\n",
    "            'namesEpic' : data['epics']['names'],\\\n",
    "            'emotionalGoals' : data['epics']['emotionalGoals']\\\n",
    "            }\n",
    "\n",
    "prompt = \"{modelName}, {modelId}, {goal}, {numStakeHolders}, {namesStakeHolder}, \\\n",
    "            {treeNodes}, {numEpic}, {namesEpic}, {emotionalGoals}\"\n",
    "prompt = prompt.format(**namespace)\n",
    "\n",
    "print(prompt)"
   ]
  },
  {
   "cell_type": "code",
   "execution_count": 45,
   "id": "24c66f77-29ab-43d8-a21f-2779154f4724",
   "metadata": {},
   "outputs": [
    {
     "name": "stdin",
     "output_type": "stream",
     "text": [
      "Entering Prompt: Create user stoires from this motivational model:  Name of project: {modelName} Goal of project: {goal} StakeHolders: {namesStakeHolder} Epics: {namesEpic} emotional goals: {emotionalGoals}  Organize your answer with following template:  Epic<number>:<name> <stakeholder>:     <list of users stories>\n"
     ]
    },
    {
     "name": "stdout",
     "output_type": "stream",
     "text": [
      "Create user stoires from this motivational model:  Name of project: I got you! Goal of project: Handel intruders and protect owner's property StakeHolders: security manager, visitor, police, place owner, intruder Epics: Detect Intruder, Notify Stakeholder, Response to intrusion emotional goals: Accuate, Safe, Timely  Organize your answer with following template:  Epic<number>:<name> <stakeholder>:     <list of users stories>\n"
     ]
    }
   ],
   "source": [
    "with open(\"Models/model1.json\", 'r') as f:\n",
    "        data = json.load(f)\n",
    "prompt = input(\"Entering Prompt:\")\n",
    "prompt = prompt.format(**namespace)\n",
    "print(prompt)"
   ]
  },
  {
   "cell_type": "code",
   "execution_count": 47,
   "id": "677254e0-3075-41e8-891c-20186c7c580c",
   "metadata": {},
   "outputs": [
    {
     "data": {
      "text/plain": [
       "<OpenAIObject chat.completion id=chatcmpl-78JTdVGruiEvXefcRVZDIJX8c7DmP at 0x244e39d4c70> JSON: {\n",
       "  \"choices\": [\n",
       "    {\n",
       "      \"finish_reason\": \"stop\",\n",
       "      \"index\": 0,\n",
       "      \"message\": {\n",
       "        \"content\": \"Epic 1: Detect Intruder \\nSecurity manager: \\n- As a security manager, I want the system to accurately detect an intruder's presence so that I can take appropriate measures.\\n- As a security manager, I want the system to alert me immediately upon detecting an intruder so that I can respond in a timely manner.\\n\\nVisitor: \\n- As a visitor, I want to feel safe when visiting the property knowing that there is a system in place to detect intruders.\\n\\nPlace owner:\\n- As a place owner, I want the system to detect intruders to protect my property and ensure the safety of my visitors and employees.\\n\\nEpic 2: Notify Stakeholder \\nSecurity manager: \\n- As a security manager, I want to be notified via email or phone when an intruder is detected by the system so that I can take action.\\n\\nPolice: \\n- As a police officer, I want the system to notify me automatically when an intruder is detected so that I can respond immediately and apprehend the intruder.\\n\\nPlace owner: \\n- As a place owner, I want the system to notify me when an intruder is detected so that I can take measures to protect my property.\\n\\nEpic 3: Response to Intrusion \\nSecurity manager: \\n- As a security manager, I want the system to sound an alarm when it detects an intruder so that I can deter them from continuing to intrude.\\n- As a security manager, I want to be able to view live footage of the intruder's movements so that I can track their progress and plan my response accordingly.\\n\\nPolice: \\n- As a police officer, I want to be able to access live footage of an intrusion in progress so that I can assess the situation and plan my response accordingly.\\n\\nIntruder: \\n- As an intruder, I want to be deterred by a loud alarm when attempting to invade the property, making me think twice before continuing to intrude. \\n\\nOverall Emotional Goals: \\n- Accurate: ensure that the system accurately detects intruders and minimizes false positives \\n- Safe: ensure visitors and property are kept safe \\n- Timely: detect and alert stakeholders in a timely manner to allow for quick response times.\",\n",
       "        \"role\": \"assistant\"\n",
       "      }\n",
       "    }\n",
       "  ],\n",
       "  \"created\": 1682215849,\n",
       "  \"id\": \"chatcmpl-78JTdVGruiEvXefcRVZDIJX8c7DmP\",\n",
       "  \"model\": \"gpt-3.5-turbo-0301\",\n",
       "  \"object\": \"chat.completion\",\n",
       "  \"usage\": {\n",
       "    \"completion_tokens\": 454,\n",
       "    \"prompt_tokens\": 164,\n",
       "    \"total_tokens\": 618\n",
       "  }\n",
       "}"
      ]
     },
     "execution_count": 47,
     "metadata": {},
     "output_type": "execute_result"
    }
   ],
   "source": [
    "\n",
    "\n",
    "response = openai.ChatCompletion.create(\n",
    "  model=\"gpt-3.5-turbo-0301\",\n",
    "  messages=[\n",
    "        {\"role\": \"system\", \"content\": \"You are ChatGPT, a large language model trained by OpenAI. Answer as concisely as possible.\"},\n",
    "        {\"role\": \"user\", \"content\": \"You are ChatGPT, a large language model trained by OpenAI. Answer as concisely as possible.\"},\n",
    "        {\"role\": \"user\", \"content\": f'{prompt}'},\n",
    "    ]\n",
    ")"
   ]
  },
  {
   "cell_type": "code",
   "execution_count": null,
   "id": "f08912d3-12a2-47b8-96ec-9b6e4b3b8003",
   "metadata": {},
   "outputs": [],
   "source": []
  }
 ],
 "metadata": {
  "kernelspec": {
   "display_name": "Python 3 (ipykernel)",
   "language": "python",
   "name": "python3"
  },
  "language_info": {
   "codemirror_mode": {
    "name": "ipython",
    "version": 3
   },
   "file_extension": ".py",
   "mimetype": "text/x-python",
   "name": "python",
   "nbconvert_exporter": "python",
   "pygments_lexer": "ipython3",
   "version": "3.9.13"
  }
 },
 "nbformat": 4,
 "nbformat_minor": 5
}
