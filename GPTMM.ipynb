{
 "cells": [
  {
   "cell_type": "code",
   "execution_count": null,
   "id": "39f6d9fe-cc65-4f1a-967c-c9172a31e1b3",
   "metadata": {},
   "outputs": [],
   "source": [
    "!pip install openai"
   ]
  },
  {
   "cell_type": "code",
   "execution_count": 1,
   "id": "64197375-e870-4152-8795-07d7efca040f",
   "metadata": {},
   "outputs": [],
   "source": [
    "import openai\n",
    "from PrivateKey import key\n",
    "openai.api_key = key"
   ]
  },
  {
   "cell_type": "code",
   "execution_count": 2,
   "id": "81598ae8-1c13-432d-9c57-cdf2f194eb7e",
   "metadata": {},
   "outputs": [
    {
     "data": {
      "text/plain": [
       "<OpenAIObject chat.completion id=chatcmpl-7IKQvnc1ovVRacGfWVeZoxfmJDUKQ at 0x1aa8d597f40> JSON: {\n",
       "  \"choices\": [\n",
       "    {\n",
       "      \"finish_reason\": \"stop\",\n",
       "      \"index\": 0,\n",
       "      \"message\": {\n",
       "        \"content\": \"Okay, I will try my best to answer as concisely as possible!\",\n",
       "        \"role\": \"assistant\"\n",
       "      }\n",
       "    }\n",
       "  ],\n",
       "  \"created\": 1684602805,\n",
       "  \"id\": \"chatcmpl-7IKQvnc1ovVRacGfWVeZoxfmJDUKQ\",\n",
       "  \"model\": \"gpt-3.5-turbo-0301\",\n",
       "  \"object\": \"chat.completion\",\n",
       "  \"usage\": {\n",
       "    \"completion_tokens\": 16,\n",
       "    \"prompt_tokens\": 59,\n",
       "    \"total_tokens\": 75\n",
       "  }\n",
       "}"
      ]
     },
     "execution_count": 2,
     "metadata": {},
     "output_type": "execute_result"
    }
   ],
   "source": [
    "openai.ChatCompletion.create(\n",
    "  model=\"gpt-3.5-turbo\",\n",
    "  messages=[\n",
    "        {\"role\": \"system\", \"content\": \"You are ChatGPT, a large language model trained by OpenAI. Answer as concisely as possible.\"},\n",
    "        {\"role\": \"user\", \"content\": \"You are ChatGPT, a large language model trained by OpenAI. Answer as concisely as possible.\"},\n",
    "    ]\n",
    ")"
   ]
  },
  {
   "cell_type": "code",
   "execution_count": 4,
   "id": "62480e6e-1f28-4287-bbfa-df1a18ae2b33",
   "metadata": {},
   "outputs": [],
   "source": [
    "import json\n",
    "import os\n",
    "dataList = []\n",
    "\n",
    "for dataName in os.listdir(\"Models/\"):\n",
    "    fileName = \"%s/%s\" % (\"Models\", dataName)\n",
    "    with open(fileName, 'r') as f:\n",
    "        data = json.load(f)\n",
    "        dataList.append(data)\n"
   ]
  },
  {
   "cell_type": "code",
   "execution_count": 5,
   "id": "08d15272-1dc1-4fa1-ae05-87a4bd35c644",
   "metadata": {},
   "outputs": [
    {
     "name": "stdout",
     "output_type": "stream",
     "text": [
      "FriendShip tracker, 9, Track friendships for user, 3,  User, Admin, Despair User,             None, 4, Delete account erase all file of account, backup data, focus on util, can manage firendship efftively, Tracking friend, Safe, realible, focus, effective\n"
     ]
    }
   ],
   "source": [
    "namespace = {'modelName' : data['modelName'], 'modelId' : data['modelId'],\\\n",
    "            'goal' : data['goal'], 'description' : data['description'],\\\n",
    "            'numStakeHolders' : data['stakeHolders']['number'],\\\n",
    "            'namesStakeHolder' : data['stakeHolders']['names'],\\\n",
    "            'treeNodes' : data['treeNodes'],\\\n",
    "            'numEpic' : data['epics']['number'],\\\n",
    "            'namesEpic' : data['epics']['names'],\\\n",
    "            'emotionalGoals' : data['epics']['emotionalGoals']\\\n",
    "            }\n",
    "\n",
    "prompt = \"{modelName}, {modelId}, {goal}, {numStakeHolders}, {namesStakeHolder}, \\\n",
    "            {treeNodes}, {numEpic}, {namesEpic}, {emotionalGoals}\"\n",
    "prompt = prompt.format(**namespace)\n",
    "\n",
    "print(prompt)"
   ]
  },
  {
   "cell_type": "code",
   "execution_count": 6,
   "id": "24c66f77-29ab-43d8-a21f-2779154f4724",
   "metadata": {},
   "outputs": [
    {
     "name": "stdin",
     "output_type": "stream",
     "text": [
      "Entering Prompt: Create user stoires from this motivational model:  Name of project: {modelName} Goal of project: {goal} StakeHolders: {namesStakeHolder} Epics: {namesEpic} emotional goals: {emotionalGoals}  Organize your answer with following template:  Model<name>  Epic<number>:<name> <stakeholder>:     <list of users stories\n"
     ]
    },
    {
     "name": "stdout",
     "output_type": "stream",
     "text": [
      "Create user stoires from this motivational model:  Name of project: FriendShip tracker Goal of project: Track friendships for user StakeHolders:  User, Admin, Despair User Epics: Delete account erase all file of account, backup data, focus on util, can manage firendship efftively, Tracking friend emotional goals: Safe, realible, focus, effective  Organize your answer with following template:  Model<name>  Epic<number>:<name> <stakeholder>:     <list of users stories\n"
     ]
    }
   ],
   "source": [
    "with open(\"Models/model1.json\", 'r') as f:\n",
    "        data = json.load(f)\n",
    "prompt = input(\"Entering Prompt:\")\n",
    "prompt = prompt.format(**namespace)\n",
    "print(prompt)\n"
   ]
  },
  {
   "cell_type": "code",
   "execution_count": 7,
   "id": "677254e0-3075-41e8-891c-20186c7c580c",
   "metadata": {},
   "outputs": [],
   "source": [
    "\n",
    "\n",
    "response = openai.ChatCompletion.create(\n",
    "  model=\"gpt-3.5-turbo-0301\",\n",
    "  messages=[\n",
    "        {\"role\": \"system\", \"content\": \"You are ChatGPT, a large language model trained by OpenAI. Answer as concisely as possible.\"},\n",
    "        {\"role\": \"user\", \"content\": \"You are ChatGPT, a large language model trained by OpenAI. Answer as concisely as possible.\"},\n",
    "        {\"role\": \"user\", \"content\": f'{prompt}'},\n",
    "    ]\n",
    ")"
   ]
  },
  {
   "cell_type": "code",
   "execution_count": 2,
   "id": "f08912d3-12a2-47b8-96ec-9b6e4b3b8003",
   "metadata": {},
   "outputs": [
    {
     "name": "stdout",
     "output_type": "stream",
     "text": [
      "['something1', 'something2', 'something12', 'something17', 'something25', 'something29']\n"
     ]
    }
   ],
   "source": [
    "import re\n",
    "def atoi(text):\n",
    "    return int(text) if text.isdigit() else text\n",
    "\n",
    "def natural_keys(text):\n",
    "    '''\n",
    "    alist.sort(key=natural_keys) sorts in human order\n",
    "    http://nedbatchelder.com/blog/200712/human_sorting.html\n",
    "    (See Toothy's implementation in the comments)\n",
    "    '''\n",
    "    return [ atoi(c) for c in re.split(r'(\\d+)', text) ]\n",
    "\n",
    "alist=[\n",
    "    \"something1\",\n",
    "    \"something12\",\n",
    "    \"something17\",\n",
    "    \"something2\",\n",
    "    \"something25\",\n",
    "    \"something29\"]\n",
    "\n",
    "alist.sort(key=natural_keys)\n",
    "print(alist)"
   ]
  },
  {
   "cell_type": "code",
   "execution_count": null,
   "id": "b3201a13-35fe-4c30-b5ea-8e59aecaf5f6",
   "metadata": {},
   "outputs": [],
   "source": []
  }
 ],
 "metadata": {
  "kernelspec": {
   "display_name": "Python 3 (ipykernel)",
   "language": "python",
   "name": "python3"
  },
  "language_info": {
   "codemirror_mode": {
    "name": "ipython",
    "version": 3
   },
   "file_extension": ".py",
   "mimetype": "text/x-python",
   "name": "python",
   "nbconvert_exporter": "python",
   "pygments_lexer": "ipython3",
   "version": "3.9.13"
  }
 },
 "nbformat": 4,
 "nbformat_minor": 5
}
