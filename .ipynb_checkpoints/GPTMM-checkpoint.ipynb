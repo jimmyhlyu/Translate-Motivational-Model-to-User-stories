{
 "cells": [
  {
   "cell_type": "code",
   "execution_count": null,
   "id": "39f6d9fe-cc65-4f1a-967c-c9172a31e1b3",
   "metadata": {},
   "outputs": [],
   "source": [
    "!pip install openai"
   ]
  },
  {
   "cell_type": "code",
   "execution_count": 2,
   "id": "64197375-e870-4152-8795-07d7efca040f",
   "metadata": {},
   "outputs": [],
   "source": [
    "import openai\n",
    "from PrivateKey import key\n",
    "openai.api_key = key"
   ]
  },
  {
   "cell_type": "code",
   "execution_count": 3,
   "id": "81598ae8-1c13-432d-9c57-cdf2f194eb7e",
   "metadata": {},
   "outputs": [
    {
     "data": {
      "text/plain": [
       "<OpenAIObject chat.completion id=chatcmpl-78HyWjCDacK1mOkg4uxhNhDZYzCNl at 0x244e3a03bd0> JSON: {\n",
       "  \"choices\": [\n",
       "    {\n",
       "      \"finish_reason\": \"stop\",\n",
       "      \"index\": 0,\n",
       "      \"message\": {\n",
       "        \"content\": \"I am an AI language model created by OpenAI, here to assist you with any questions or tasks you may have. How can I assist you today?\",\n",
       "        \"role\": \"assistant\"\n",
       "      }\n",
       "    }\n",
       "  ],\n",
       "  \"created\": 1682210076,\n",
       "  \"id\": \"chatcmpl-78HyWjCDacK1mOkg4uxhNhDZYzCNl\",\n",
       "  \"model\": \"gpt-3.5-turbo-0301\",\n",
       "  \"object\": \"chat.completion\",\n",
       "  \"usage\": {\n",
       "    \"completion_tokens\": 31,\n",
       "    \"prompt_tokens\": 23,\n",
       "    \"total_tokens\": 54\n",
       "  }\n",
       "}"
      ]
     },
     "execution_count": 3,
     "metadata": {},
     "output_type": "execute_result"
    }
   ],
   "source": [
    "openai.ChatCompletion.create(\n",
    "  model=\"gpt-3.5-turbo\",\n",
    "  messages=[\n",
    "        {\"role\": \"system\", \"content\": \"You are ChatGPT, a large language model trained by OpenAI. Answer as concisely as possible.\"},\n",
    "        {\"role\": \"user\", \"content\": \"You are ChatGPT, a large language model trained by OpenAI. Answer as concisely as possible.\"},\n",
    "    ]\n",
    ")"
   ]
  },
  {
   "cell_type": "code",
   "execution_count": 36,
   "id": "62480e6e-1f28-4287-bbfa-df1a18ae2b33",
   "metadata": {},
   "outputs": [],
   "source": [
    "import json\n",
    "import os\n",
    "dataList = []\n",
    "\n",
    "for dataName in os.listdir(\"Models/\"):\n",
    "    fileName = \"%s/%s\" % (\"Models\", dataName)\n",
    "    with open(fileName, 'r') as f:\n",
    "        data = json.load(f)\n",
    "        dataList.append(data)\n"
   ]
  },
  {
   "cell_type": "code",
   "execution_count": 26,
   "id": "08d15272-1dc1-4fa1-ae05-87a4bd35c644",
   "metadata": {},
   "outputs": [
    {
     "name": "stdout",
     "output_type": "stream",
     "text": [
      "Learning Algorithm Platform, 3, People can use this Platform to Learn Algorithms, 1, Students,             Construct the solution, Submit the solution, Get feedback, Ask for help, Preview the algorithms animation, Read algorithm specs and problems, 2, Solve the problems, Browse algorithms, User-friendly ,Focused, Fun, Practical, Engaged, Challenged, Encouraged, Approachable to non-coders, Accomplished, Fair Constructive\n"
     ]
    }
   ],
   "source": [
    "namespace = {'modelName' : data['modelName'], 'modelId' : data['modelId'],\\\n",
    "            'goal' : data['goal'], 'description' : data['description'],\\\n",
    "            'numStakeHolders' : data['stakeHolders']['number'],\\\n",
    "            'namesStakeHolder' : data['stakeHolders']['names'],\\\n",
    "            'treeNodes' : data['treeNodes'],\\\n",
    "            'numEpic' : data['epics']['number'],\\\n",
    "            'namesEpic' : data['epics']['names'],\\\n",
    "            'emotionalGoals' : data['epics']['emotionalGoals']\\\n",
    "            }\n",
    "\n",
    "prompt = \"{modelName}, {modelId}, {goal}, {numStakeHolders}, {namesStakeHolder}, \\\n",
    "            {treeNodes}, {numEpic}, {namesEpic}, {emotionalGoals}\"\n",
    "prompt = prompt.format(**namespace)\n",
    "\n",
    "print(prompt)"
   ]
  },
  {
   "cell_type": "code",
   "execution_count": 38,
   "id": "24c66f77-29ab-43d8-a21f-2779154f4724",
   "metadata": {},
   "outputs": [
    {
     "name": "stdout",
     "output_type": "stream",
     "text": [
      "{'modelId': '1', 'modelName': 'I got you!', 'goal': \"Handel intruders and protect owner's property\", 'description': 'A product that is detecting for any intruders, and noticed partys if detected.', 'stakeHolders': {'number': 4, 'names': 'security manager, visitor, police, place owner, intruder'}, 'epics': {'number': 3, 'names': 'Detect Intruder, Notify Stakeholder, Response to intrusion', 'emotionalGoals': 'Accuate, Safe, Timely'}, 'treeNodes': 'inform police, inform visitors, inform owner'}\n"
     ]
    }
   ],
   "source": [
    "with open(\"Models/model1.json\", 'r') as f:\n",
    "        data = json.load(f)\n",
    "prompt = input(\"Entering Prompt:\")\n",
    "prompt"
   ]
  },
  {
   "cell_type": "code",
   "execution_count": null,
   "id": "677254e0-3075-41e8-891c-20186c7c580c",
   "metadata": {},
   "outputs": [],
   "source": [
    "\n",
    "\n",
    "openai.ChatCompletion.create(\n",
    "  model=\"gpt-3.5-turbo\",\n",
    "  messages=[\n",
    "        {\"role\": \"system\", \"content\": \"You are ChatGPT, a large language model trained by OpenAI. Answer as concisely as possible.\"},\n",
    "        {\"role\": \"user\", \"content\": \"You are ChatGPT, a large language model trained by OpenAI. Answer as concisely as possible.\"},\n",
    "        {\"role\": \"user\", \"content\": \"You are ChatGPT, a large language model trained by OpenAI. Answer as concisely as possible.\"},\n",
    "    ]\n",
    ")"
   ]
  }
 ],
 "metadata": {
  "kernelspec": {
   "display_name": "Python 3 (ipykernel)",
   "language": "python",
   "name": "python3"
  },
  "language_info": {
   "codemirror_mode": {
    "name": "ipython",
    "version": 3
   },
   "file_extension": ".py",
   "mimetype": "text/x-python",
   "name": "python",
   "nbconvert_exporter": "python",
   "pygments_lexer": "ipython3",
   "version": "3.9.13"
  }
 },
 "nbformat": 4,
 "nbformat_minor": 5
}
